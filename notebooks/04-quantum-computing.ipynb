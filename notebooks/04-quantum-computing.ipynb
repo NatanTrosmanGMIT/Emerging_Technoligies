{
 "cells": [
  {
   "cell_type": "markdown",
   "id": "0317f7ed",
   "metadata": {},
   "source": [
    "<img src=\"https://gmo-research.com/application/files/5716/6080/5815/Quantum_Computing_Image.png\" width=\"800\" height=\"800\">\n",
    "\n",
    "***\n",
    "# Quantum Computing\n",
    "***\n",
    "Quantum computing is a type of computing that uses quantum-mechanical phenomena, such as superposition and entanglement, to perform operations on data.\n",
    "\n",
    "In classical computing, information is stored in bits, which can have a value of 0 or 1. Quantum computers, on the other hand, use quantum bits, or qubits, which can represent both 0 and 1 simultaneously. This property, known as superposition, allows quantum computers to perform many calculations in parallel, potentially making them much faster than classical computers for certain tasks.\n",
    "\n",
    "Quantum computers also use a phenomenon called entanglement, in which the state of one qubit is correlated with the state of other qubits. This allows quantum computers to perform certain operations, such as database search, much faster than classical computers.\n",
    "\n",
    "Quantum computing is still an active area of research, and it is not yet clear what practical applications it will have. However, it has the potential to revolutionize fields such as cryptography, drug discovery, and materials science.\n",
    "\n",
    "There are several companies and research organizations working on developing quantum computers, including IBM, Google, and the Quantum Computing Institute at the University of Maryland.\n",
    "***\n",
    "## Quantum Algorithms\n",
    "***\n",
    "Quantum computers can use special algorithms, such as Shor's algorithm and Grover's algorithm, to perform certain tasks much faster than classical computers. Shor's algorithm can be used to factorize large numbers, which is important for cryptography, and Grover's algorithm can be used to search unstructured databases faster than classical algorithms.\n",
    "\n",
    "Shor's algorithm is a quantum algorithm for integer factorization that was discovered by mathematician Peter Shor in 1994. It is based on the fact that the period of the sequence of remainders produced by the division of a number by a prime number is related to the prime factorization of the number.\n",
    "\n",
    "The algorithm works by finding the period of this sequence using a quantum algorithm called quantum period finding. Once the period is found, the prime factors of the number can be obtained by solving a system of modular equations.\n",
    "\n",
    "Shor's algorithm has the potential to break many of the currently used public-key cryptography schemes, such as RSA, which rely on the difficulty of factorizing large numbers. This has important implications for the security of internet communications and other applications that use public-key cryptography.\n",
    "\n",
    "Grover's algorithm is a quantum algorithm for searching an unstructured database. It was discovered by Lov Grover in 1996 and is based on the principle of amplitude amplification.\n",
    "\n",
    "The algorithm works by modifying the amplitudes of the elements in the database so that the element being searched for has a higher probability of being measured. This is done by applying a series of quantum operations, called Grover iterations, to the database. The number of iterations required to find the element is quadratic in the size of the database, which is faster than the linear search time of classical algorithms.\n",
    "\n",
    "Grover's algorithm has applications in database search, optimization, and machine learning, and it has the potential to speed up many computational tasks that involve searching through large datasets."
   ]
  },
  {
   "cell_type": "markdown",
   "id": "94e317b6",
   "metadata": {},
   "source": [
    "***\n",
    "## Quantum Error Correction\n",
    "***\n",
    "<img src=\"https://miro.medium.com/max/1200/1*iLWKD7AL99grdRlBWEigKg.png\" width=\"800\" height=\"800\">\n",
    "\n",
    "Quantum error correction is a technique used to protect the quantum state of a quantum computer from errors caused by noise and other external factors.\n",
    "\n",
    "In classical computing, errors in the computation can usually be corrected by using error-correcting codes, such as parity bits or Reed-Solomon codes. However, these techniques are not effective for correcting errors in quantum computers, because quantum states are much more fragile than classical states and can be easily disturbed by noise.\n",
    "\n",
    "To protect against these errors, quantum computers use quantum error correction codes, which encode the quantum state in a redundant way to ensure that the state can be recovered even if some errors occur. These codes work by encoding the quantum state into multiple physical qubits, called \"code qubits,\" in such a way that the state can be recovered from the measurement of these qubits.\n",
    "\n",
    "There are many different types of quantum error correction codes, including surface codes, topological codes, and stabilizer codes. These codes have different properties and are suitable for different types of quantum computers and applications.\n",
    "\n",
    "Quantum error correction is an active area of research, and it is an important challenge in the development of practical quantum computers. Despite significant progress, the practical implementation of quantum error correction is still a challenging problem, and it remains an open research question how to build a large-scale quantum computer that can operate reliably in the presence of noise."
   ]
  },
  {
   "cell_type": "markdown",
   "id": "e5d5efa0",
   "metadata": {},
   "source": [
    "***\n",
    "## Quantum Supremacy\n",
    "***\n",
    "<img src=\"https://www.bbva.com/wp-content/uploads/2019/11/supremaci%CC%81a-cua%CC%81ntica-1024x683.jpg\" width=\"800\" height=\"800\">\n",
    "\n",
    "Quantum supremacy is the idea that a quantum computer can perform a task that is beyond the capabilities of any classical computer. It is a theoretical concept that has not yet been fully realized in practice, but it is an important goal for the field of quantum computing.\n",
    "\n",
    "The concept of quantum supremacy was first introduced by John Preskill in 2012, and it has since become an important benchmark for the development of quantum computers. Achieving quantum supremacy would demonstrate the power and potential of quantum computers and could have significant implications for a wide range of applications, including cryptography, optimization, and machine learning.\n",
    "\n",
    "There have been several claims of quantum supremacy in the past few years, but these claims have been disputed and are still being evaluated by the scientific community. In 2019, Google claimed to have achieved quantum supremacy by demonstrating that a quantum computer could perform a certain task in 200 seconds that would take a classical computer 10,000 years to complete. However, this claim has been challenged by other researchers, who argue that the task can be performed faster by a classical computer using specialized hardware.\n",
    "\n",
    "Achieving quantum supremacy is a difficult and challenging task, and it requires the development of large-scale quantum computers with a high level of control and low error rates. It is an active area of research, and it is not yet clear when or if quantum supremacy will be achieved."
   ]
  },
  {
   "cell_type": "markdown",
   "id": "317f3016",
   "metadata": {},
   "source": [
    "***\n",
    "## Quantum Circuits\n",
    "***\n",
    "<img src=\"https://www.researchgate.net/publication/348696816/figure/fig1/AS:983053300162560@1611389579116/Example-of-a-5-qubit-quantum-circuit-from-18-with-each-horizontal-line-representing.png\" width=\"800\" height=\"800\">\n",
    "\n",
    "A quantum circuit is a sequence of quantum gates that are used to perform a specific computation on a quantum computer. It is similar to an electronic circuit, but it uses quantum logic gates instead of classical logic gates.\n",
    "\n",
    "Quantum circuits are made up of qubits, which are the basic units of quantum information, and quantum gates, which are used to perform quantum operations on the qubits. Quantum circuits can perform a wide range of computational tasks, including quantum simulation, quantum optimization, and quantum machine learning.\n",
    "\n",
    "There are many different types of quantum circuits, and they can be designed to perform a variety of different computations. Some common types of quantum circuits include quantum logic circuits, quantum algorithms, and quantum communication circuits.\n",
    "\n",
    "Quantum circuits are an important tool for designing and implementing quantum computers, and they are used to build quantum algorithms and perform a wide range of computational tasks. They are an active area of research, and researchers are exploring a variety of different techniques for designing and implementing quantum circuits, including quantum error correction, quantum communication, and quantum control.\n",
    "\n",
    "There are many different tools and libraries available for designing and simulating quantum circuits, including Quirk, Qiskit, and Cirq. These tools allow users to design and simulate quantum circuits using a graphical interface or a programming language."
   ]
  },
  {
   "cell_type": "code",
   "execution_count": 1,
   "id": "f804d514",
   "metadata": {},
   "outputs": [
    {
     "data": {
      "image/png": "[encoded data removed]",
      "text/plain": [
       "<Figure size 557.891x445.48 with 1 Axes>"
      ]
     },
     "execution_count": 1,
     "metadata": {},
     "output_type": "execute_result"
    }
   ],
   "source": [
    "# Imports\n",
    "from qiskit import QuantumCircuit, assemble, Aer\n",
    "from qiskit.visualization import plot_histogram,  plot_bloch_multivector\n",
    "\n",
    "# Create a circuit with 6 qubits and 6 outputs\n",
    "qc_output = QuantumCircuit(6)\n",
    "\n",
    "\n",
    "# Extract the outputs within a quantum circuit\n",
    "# Add a measurement to each qubit also add classical bits to write output to\n",
    "qc_output.measure_all()\n",
    "# Draw the circuit\n",
    "qc_output.draw(output=\"mpl\",initial_state=True) "
   ]
  },
  {
   "cell_type": "markdown",
   "id": "7cad28a8",
   "metadata": {},
   "source": [
    "***\n",
    "## Quantum Gates\n",
    "***\n",
    "<img src=\"https://www.researchgate.net/profile/Abdullah-Iliyasu/publication/348283833/figure/fig2/AS:977664059908096@1610104684162/Properties-of-commonly-used-basic-quantum-gates.ppm\" width=\"800\" height=\"800\">\n",
    "\n",
    "Quantum gates are fundamental building blocks of quantum computers that are used to perform quantum operations on quantum states. They are the quantum analogues of classical logic gates, which are used to perform logical operations in classical computers.\n",
    "\n",
    "Quantum gates operate on qubits, which are the basic units of quantum information. Unlike classical bits, which can only have a value of 0 or 1, qubits can represent both 0 and 1 simultaneously, using a property called superposition. Quantum gates use this property of qubits to perform operations that are not possible in classical computers.\n",
    "\n",
    "There are many different types of quantum gates, including single-qubit gates and multi-qubit gates. Single-qubit gates operate on a single qubit and can perform operations such as NOT, rotation, and phase shift. Multi-qubit gates operate on two or more qubits and can perform operations such as controlled-NOT, controlled-Z, and SWAP.\n",
    "\n",
    "Quantum gates are implemented using quantum circuits, which are like electronic circuits but use quantum logic gates instead of classical logic gates. Quantum circuits are made up of a series of quantum gates, which are connected together to form a circuit that performs a specific computation.\n",
    "\n",
    "Quantum gates are an essential component of quantum computers, and they are used to build quantum algorithms and perform a wide range of computational tasks. Some of the important tasks that can be performed using quantum gates include quantum simulation, quantum optimization, and quantum machine learning."
   ]
  },
  {
   "cell_type": "markdown",
   "id": "677cbd00",
   "metadata": {},
   "source": [
    "***\n",
    "#### Different gates\n",
    "\n",
    "There are several different quantum gates that can be used to perform quantum operations on qubits. Some of the most common quantum gates are:\n",
    "\n",
    "- Hadamard gate (H): The Hadamard gate is a single-qubit gate that puts the qubit into a superposition of the |0> and |1> states.\n",
    "\n",
    "- Pauli X gate (X): The Pauli X gate is a single-qubit gate that flips the state of the qubit from |0> to |1>, or from |1> to |0>.\n",
    "\n",
    "- Pauli Y gate (Y): The Pauli Y gate is a single-qubit gate that rotates the state of the qubit around the Y axis of the Bloch sphere.\n",
    "\n",
    "- Pauli Z gate (Z): The Pauli Z gate is a single-qubit gate that rotates the state of the qubit around the Z axis of the Bloch sphere.\n",
    "\n",
    "- Phase shift gate (S): The phase shift gate is a single-qubit gate that applies a phase shift to the state of the qubit.\n",
    "\n",
    "- Controlled-NOT gate (CNOT): The controlled-NOT gate is a two-qubit gate that flips the state of the second qubit (the target qubit) if the state of the first qubit (the control qubit) is |1>.\n",
    "\n",
    "- Controlled-Z gate (CZ): The controlled-Z gate is a two-qubit gate that applies a phase shift to the state of the second qubit (the target qubit) if the state of the first qubit (the control qubit) is |1>.\n",
    "\n",
    "- Toffoli gate (CCNOT): The Toffoli gate is a three-qubit gate that flips the state of the third qubit (the target qubit) if the states of the first two qubits (the control qubits) are both |1>.\n",
    "\n",
    "- These are just a few examples of the many different quantum gates that are available. There are many other quantum gates that can be used to perform a wide variety of quantum operations on qubits."
   ]
  },
  {
   "cell_type": "markdown",
   "id": "65d65183",
   "metadata": {},
   "source": [
    "***\n",
    "## Deutsch Algorithm\n",
    "***\n",
    "The Deutsch algorithm is a quantum algorithm that can determine the parity (evenness or oddness) of a function f(x) that takes as input a single bit x and returns a single bit. The algorithm was proposed by David Deutsch in 1985, and it was the first quantum algorithm to be proposed that had an exponential speedup over any classical algorithm.\n",
    "\n",
    "The basic idea of the Deutsch algorithm is to use a quantum computer to evaluate the function f(x) for two different input values x, and then use the results of these evaluations to determine the parity of the function. To do this, the algorithm uses a quantum circuit with two qubits and a series of quantum gates.\n",
    "\n",
    "The first step of the Deutsch algorithm is to initialize the two qubits in the state |00>. The second step is to apply a Hadamard gate to each qubit, which puts the qubits into a superposition of all possible input values.\n",
    "\n",
    "The third step is to apply the function f(x) to one of the qubits, depending on whether the function is balanced or constant. If the function is balanced (i.e., it returns 1 for exactly half of the possible input values), then the function is applied to the second qubit. If the function is constant (i.e., it always returns the same output), then the function is applied to the first qubit.\n",
    "\n",
    "The fourth step is to apply a Hadamard gate to each qubit again, and then to measure the state of the qubits. The result of the measurement is used to determine the parity of the function.\n",
    "\n",
    "The Deutsch algorithm has a number of interesting properties. For example, it can determine the parity of a function with only one evaluation, whereas any classical algorithm would require at least two evaluations. Additionally, the Deutsch algorithm can be generalized to determine the parity of functions with multiple input bits, which can lead to even more dramatic speedups over classical algorithms.\n"
   ]
  },
  {
   "cell_type": "code",
   "execution_count": 25,
   "id": "2e4755b1",
   "metadata": {},
   "outputs": [],
   "source": [
    "# Generating random numbers.\n",
    "import numpy as np\n",
    "\n",
    "# Plotting.\n",
    "import seaborn as sns\n",
    "\n",
    "# Random numbers and choices.\n",
    "import random\n",
    "\n",
    "# Combinations and permutation.\n",
    "import itertools\n",
    "\n",
    "\n",
    "def f1(x):\n",
    "    if x == 0:\n",
    "        return 0\n",
    "    else:\n",
    "        return 0"
   ]
  },
  {
   "cell_type": "code",
   "execution_count": 26,
   "id": "d1d9cda3",
   "metadata": {},
   "outputs": [],
   "source": [
    "def f2(x):\n",
    "    if x == 0:\n",
    "        return 0\n",
    "    else:\n",
    "        return 1"
   ]
  },
  {
   "cell_type": "code",
   "execution_count": 27,
   "id": "a5a64387",
   "metadata": {},
   "outputs": [],
   "source": [
    "def f3(x):\n",
    "    if x == 0:\n",
    "        return 1\n",
    "    else:\n",
    "        return 0"
   ]
  },
  {
   "cell_type": "code",
   "execution_count": 28,
   "id": "c4ddcaba",
   "metadata": {},
   "outputs": [],
   "source": [
    "def f4(x):\n",
    "    if x == 0:\n",
    "        return 1\n",
    "    else:\n",
    "        return 1\n"
   ]
  },
  {
   "cell_type": "code",
   "execution_count": 29,
   "id": "8a324d1d",
   "metadata": {},
   "outputs": [],
   "source": [
    "L = [f1, f2, f3, f4]"
   ]
  },
  {
   "cell_type": "code",
   "execution_count": 30,
   "id": "62023dac",
   "metadata": {},
   "outputs": [],
   "source": [
    "f = random.choice(L)"
   ]
  },
  {
   "cell_type": "code",
   "execution_count": 31,
   "id": "f69092e0",
   "metadata": {},
   "outputs": [
    {
     "data": {
      "text/plain": [
       "1"
      ]
     },
     "execution_count": 31,
     "metadata": {},
     "output_type": "execute_result"
    }
   ],
   "source": [
    "f(0)"
   ]
  },
  {
   "cell_type": "code",
   "execution_count": 32,
   "id": "194d5d77",
   "metadata": {},
   "outputs": [
    {
     "data": {
      "text/plain": [
       "1"
      ]
     },
     "execution_count": 32,
     "metadata": {},
     "output_type": "execute_result"
    }
   ],
   "source": [
    "f(1)"
   ]
  },
  {
   "cell_type": "code",
   "execution_count": 33,
   "id": "63aeb863",
   "metadata": {},
   "outputs": [
    {
     "data": {
      "text/plain": [
       "<function __main__.f4(x)>"
      ]
     },
     "execution_count": 33,
     "metadata": {},
     "output_type": "execute_result"
    }
   ],
   "source": [
    "f"
   ]
  },
  {
   "cell_type": "code",
   "execution_count": 34,
   "id": "708ffd66",
   "metadata": {},
   "outputs": [
    {
     "data": {
      "text/plain": [
       "[(0, 0, 0),\n",
       " (0, 0, 1),\n",
       " (0, 1, 0),\n",
       " (0, 1, 1),\n",
       " (1, 0, 0),\n",
       " (1, 0, 1),\n",
       " (1, 1, 0),\n",
       " (1, 1, 1)]"
      ]
     },
     "execution_count": 34,
     "metadata": {},
     "output_type": "execute_result"
    }
   ],
   "source": [
    "list(itertools.product([0,1], repeat=3))"
   ]
  },
  {
   "cell_type": "code",
   "execution_count": 35,
   "id": "e2b2aa18",
   "metadata": {},
   "outputs": [
    {
     "data": {
      "text/plain": [
       "[(0, 0), (0, 1), (1, 0), (1, 1)]"
      ]
     },
     "execution_count": 35,
     "metadata": {},
     "output_type": "execute_result"
    }
   ],
   "source": [
    "list(itertools.product([0,1], repeat=2))"
   ]
  },
  {
   "cell_type": "code",
   "execution_count": 36,
   "id": "4a40bb08",
   "metadata": {},
   "outputs": [],
   "source": [
    "def random_f():\n",
    "    possible_Ls = list(itertools.product([0,1], repeat=2))\n",
    "    L = random.choice(possible_Ls)\n",
    "    def f(x):\n",
    "        return L[x]\n",
    "    return f"
   ]
  },
  {
   "cell_type": "code",
   "execution_count": 37,
   "id": "9ccff2bd",
   "metadata": {},
   "outputs": [],
   "source": [
    "f = random_f()"
   ]
  },
  {
   "cell_type": "code",
   "execution_count": 38,
   "id": "90709497",
   "metadata": {},
   "outputs": [
    {
     "data": {
      "text/plain": [
       "0"
      ]
     },
     "execution_count": 38,
     "metadata": {},
     "output_type": "execute_result"
    }
   ],
   "source": [
    "f(0)"
   ]
  },
  {
   "cell_type": "code",
   "execution_count": 39,
   "id": "d203f7d9",
   "metadata": {},
   "outputs": [
    {
     "data": {
      "text/plain": [
       "1"
      ]
     },
     "execution_count": 39,
     "metadata": {},
     "output_type": "execute_result"
    }
   ],
   "source": [
    "f(1)"
   ]
  },
  {
   "cell_type": "code",
   "execution_count": null,
   "id": "0f61d752",
   "metadata": {},
   "outputs": [],
   "source": []
  },
  {
   "cell_type": "code",
   "execution_count": null,
   "id": "90c54bca",
   "metadata": {},
   "outputs": [],
   "source": []
  },
  {
   "cell_type": "markdown",
   "id": "7b79c879",
   "metadata": {},
   "source": [
    "***\n",
    "# References\n",
    "***\n",
    "\n",
    "Qiskit:<br>\n",
    "https://qiskit.org/textbook/preface.html\n",
    "\n",
    "Quantum algorithms: an overview by Ashley Montanaro:<br>\n",
    "https://www.nature.com/articles/npjqi201523\n",
    "\n",
    "Quantum Error Correction: An Introductory Guide by Joschka Roffe:<br>\n",
    "https://arxiv.org/pdf/1907.11157.pdf\n",
    "\n",
    "Demystifying Quantum Gates — One Qubit At A Time by Jason Roell:<br>\n",
    "https://towardsdatascience.com/demystifying-quantum-gates-one-qubit-at-a-time-54404ed80640"
   ]
  }
 ],
 "metadata": {
  "kernelspec": {
   "display_name": "Python 3 (ipykernel)",
   "language": "python",
   "name": "python3"
  },
  "language_info": {
   "codemirror_mode": {
    "name": "ipython",
    "version": 3
   },
   "file_extension": ".py",
   "mimetype": "text/x-python",
   "name": "python",
   "nbconvert_exporter": "python",
   "pygments_lexer": "ipython3",
   "version": "3.9.7"
  }
 },
 "nbformat": 4,
 "nbformat_minor": 5
}
