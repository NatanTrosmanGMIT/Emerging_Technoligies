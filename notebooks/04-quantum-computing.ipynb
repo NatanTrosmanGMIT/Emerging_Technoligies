{
 "cells": [
  {
   "cell_type": "markdown",
   "id": "497d56f4",
   "metadata": {},
   "source": [
    "<img src=\"https://gmo-research.com/application/files/5716/6080/5815/Quantum_Computing_Image.png\" width=\"800\" height=\"800\">\n",
    "\n",
    "***\n",
    "# Quantum Computing\n",
    "***\n",
    "Quantum computing is a type of computing that uses quantum-mechanical phenomena, such as superposition and entanglement, to perform operations on data.\n",
    "\n",
    "In classical computing, information is stored in bits, which can have a value of 0 or 1. Quantum computers, on the other hand, use quantum bits, or qubits, which can represent both 0 and 1 simultaneously. This property, known as superposition, allows quantum computers to perform many calculations in parallel, potentially making them much faster than classical computers for certain tasks.\n",
    "\n",
    "Quantum computers also use a phenomenon called entanglement, in which the state of one qubit is correlated with the state of other qubits. This allows quantum computers to perform certain operations, such as database search, much faster than classical computers.\n",
    "\n",
    "Quantum computing is still an active area of research, and it is not yet clear what practical applications it will have. However, it has the potential to revolutionize fields such as cryptography, drug discovery, and materials science.\n",
    "\n",
    "There are several companies and research organizations working on developing quantum computers, including IBM, Google, and the Quantum Computing Institute at the University of Maryland.\n",
    "***\n",
    "## Quantum algorithms\n",
    "***\n",
    "Quantum computers can use special algorithms, such as Shor's algorithm and Grover's algorithm, to perform certain tasks much faster than classical computers. Shor's algorithm can be used to factorize large numbers, which is important for cryptography, and Grover's algorithm can be used to search unstructured databases faster than classical algorithms.\n",
    "\n",
    "Shor's algorithm is a quantum algorithm for integer factorization that was discovered by mathematician Peter Shor in 1994. It is based on the fact that the period of the sequence of remainders produced by the division of a number by a prime number is related to the prime factorization of the number.\n",
    "\n",
    "The algorithm works by finding the period of this sequence using a quantum algorithm called quantum period finding. Once the period is found, the prime factors of the number can be obtained by solving a system of modular equations.\n",
    "\n",
    "Shor's algorithm has the potential to break many of the currently used public-key cryptography schemes, such as RSA, which rely on the difficulty of factorizing large numbers. This has important implications for the security of internet communications and other applications that use public-key cryptography.\n",
    "\n",
    "Grover's algorithm is a quantum algorithm for searching an unstructured database. It was discovered by Lov Grover in 1996 and is based on the principle of amplitude amplification.\n",
    "\n",
    "The algorithm works by modifying the amplitudes of the elements in the database so that the element being searched for has a higher probability of being measured. This is done by applying a series of quantum operations, called Grover iterations, to the database. The number of iterations required to find the element is quadratic in the size of the database, which is faster than the linear search time of classical algorithms.\n",
    "\n",
    "Grover's algorithm has applications in database search, optimization, and machine learning, and it has the potential to speed up many computational tasks that involve searching through large datasets."
   ]
  },
  {
   "cell_type": "markdown",
   "id": "9aa260a4",
   "metadata": {},
   "source": [
    "***\n",
    "## Quantum error correction\n",
    "***\n",
    "<img src=\"https://miro.medium.com/max/1200/1*iLWKD7AL99grdRlBWEigKg.png\" width=\"800\" height=\"800\">\n",
    "\n",
    "Quantum error correction is a technique used to protect the quantum state of a quantum computer from errors caused by noise and other external factors.\n",
    "\n",
    "In classical computing, errors in the computation can usually be corrected by using error-correcting codes, such as parity bits or Reed-Solomon codes. However, these techniques are not effective for correcting errors in quantum computers, because quantum states are much more fragile than classical states and can be easily disturbed by noise.\n",
    "\n",
    "To protect against these errors, quantum computers use quantum error correction codes, which encode the quantum state in a redundant way to ensure that the state can be recovered even if some errors occur. These codes work by encoding the quantum state into multiple physical qubits, called \"code qubits,\" in such a way that the state can be recovered from the measurement of these qubits.\n",
    "\n",
    "There are many different types of quantum error correction codes, including surface codes, topological codes, and stabilizer codes. These codes have different properties and are suitable for different types of quantum computers and applications.\n",
    "\n",
    "Quantum error correction is an active area of research, and it is an important challenge in the development of practical quantum computers. Despite significant progress, the practical implementation of quantum error correction is still a challenging problem, and it remains an open research question how to build a large-scale quantum computer that can operate reliably in the presence of noise."
   ]
  },
  {
   "cell_type": "markdown",
   "id": "a100e481",
   "metadata": {},
   "source": [
    "***\n",
    "## Quantum supremacy\n",
    "***\n",
    "<img src=\"https://www.bbva.com/wp-content/uploads/2019/11/supremaci%CC%81a-cua%CC%81ntica-1024x683.jpg\" width=\"800\" height=\"800\">\n",
    "\n",
    "Quantum supremacy is the idea that a quantum computer can perform a task that is beyond the capabilities of any classical computer. It is a theoretical concept that has not yet been fully realized in practice, but it is an important goal for the field of quantum computing.\n",
    "\n",
    "The concept of quantum supremacy was first introduced by John Preskill in 2012, and it has since become an important benchmark for the development of quantum computers. Achieving quantum supremacy would demonstrate the power and potential of quantum computers and could have significant implications for a wide range of applications, including cryptography, optimization, and machine learning.\n",
    "\n",
    "There have been several claims of quantum supremacy in the past few years, but these claims have been disputed and are still being evaluated by the scientific community. In 2019, Google claimed to have achieved quantum supremacy by demonstrating that a quantum computer could perform a certain task in 200 seconds that would take a classical computer 10,000 years to complete. However, this claim has been challenged by other researchers, who argue that the task can be performed faster by a classical computer using specialized hardware.\n",
    "\n",
    "Achieving quantum supremacy is a difficult and challenging task, and it requires the development of large-scale quantum computers with a high level of control and low error rates. It is an active area of research, and it is not yet clear when or if quantum supremacy will be achieved."
   ]
  },
  {
   "cell_type": "markdown",
   "id": "4a48e87a",
   "metadata": {},
   "source": [
    "***\n",
    "# References\n",
    "***\n",
    "\n",
    "Qiskit:<br>\n",
    "https://qiskit.org/textbook/preface.html\n",
    "\n",
    "Quantum algorithms: an overview by Ashley Montanaro:<br>\n",
    "https://www.nature.com/articles/npjqi201523\n",
    "\n",
    "Quantum Error Correction: An Introductory Guide by Joschka Roffe:<br>\n",
    "https://arxiv.org/pdf/1907.11157.pdf"
   ]
  }
 ],
 "metadata": {
  "kernelspec": {
   "display_name": "Python 3 (ipykernel)",
   "language": "python",
   "name": "python3"
  },
  "language_info": {
   "codemirror_mode": {
    "name": "ipython",
    "version": 3
   },
   "file_extension": ".py",
   "mimetype": "text/x-python",
   "name": "python",
   "nbconvert_exporter": "python",
   "pygments_lexer": "ipython3",
   "version": "3.9.7"
  }
 },
 "nbformat": 4,
 "nbformat_minor": 5
}
