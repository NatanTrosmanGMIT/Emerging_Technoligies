{
 "cells": [
  {
   "cell_type": "markdown",
   "metadata": {},
   "source": [
    "## Computation\n",
    "\n",
    "Five examples of pairs of functions ƒ and g such that ƒ is ƒ O(G)."
   ]
  },
  {
   "cell_type": "code",
   "execution_count": 2,
   "metadata": {},
   "outputs": [
    {
     "data": {
      "image/png": "[encoded data removed]",
      "text/plain": [
       "<Figure size 640x480 with 1 Axes>"
      ]
     },
     "metadata": {},
     "output_type": "display_data"
    },
    {
     "data": {
      "text/html": [
       "<img src=\"https://miro.medium.com/max/720/1*j8fUQjaUlmrQEN_udU0_TQ.jpeg\" width=\"600\" height=\"600\"/>"
      ],
      "text/plain": [
       "<IPython.core.display.Image object>"
      ]
     },
     "execution_count": 2,
     "metadata": {},
     "output_type": "execute_result"
    }
   ],
   "source": [
    "import math\n",
    "import matplotlib.pyplot as plt\n",
    "\n",
    "foG = []\n",
    "fG = []\n",
    "fC = []\n",
    "fG2 = []\n",
    "fGFac = []\n",
    "\n",
    "for i in range(1, 11):\n",
    "    foG.append(i * math.log(i))\n",
    "    fG.append(i ** 2)\n",
    "    fC.append(2)\n",
    "    fG2.append((i/2) * (i/2))\n",
    "    #fGFac.append(math.factorial((i/2)))\n",
    "    \n",
    "y = [1, 2, 3, 4, 5, 6, 7, 8, 9, 10,]\n",
    "  \n",
    "# plot lines\n",
    "plt.plot(y, foG, label = \"ƒ O(G)\")\n",
    "plt.plot(y, fG, label = \"ƒ * G\")\n",
    "plt.plot(y, fC, label = \"ƒ\")\n",
    "plt.plot(y, fG2, label = \"ƒ * G²\")\n",
    "#plt.plot(y, fGFac, label = \"G!\")\n",
    "plt.legend()\n",
    "plt.show()\n",
    "\n",
    "# import image module\n",
    "from IPython.display import Image\n",
    "\n",
    "# get the image\n",
    "Image(url=\"https://miro.medium.com/max/720/1*j8fUQjaUlmrQEN_udU0_TQ.jpeg\", width=600, height=600)\n"
   ]
  },
  {
   "cell_type": "markdown",
   "metadata": {},
   "source": [
    "## Exercise 2\n",
    "\n",
    "Change the above code to only accept inputs that do not contain any 1's."
   ]
  },
  {
   "cell_type": "code",
   "execution_count": 3,
   "metadata": {
    "tags": []
   },
   "outputs": [
    {
     "name": "stdout",
     "output_type": "stream",
     "text": [
      "X0101111\n",
      "0X101111\n",
      "01Y01111\n",
      "010Y1111\n",
      "0101X111\n",
      "01011Y11\n",
      "010111X1\n",
      "0101111Y_\n",
      "0101111_F_\n"
     ]
    }
   ],
   "source": [
    "# State table.\n",
    "table = {\n",
    "    ('X', '_'): ['_', 'R', 'T'],\n",
    "    ('X', '0'): ['0', 'R', 'X'],\n",
    "    ('X', '1'): ['1', 'R', 'Y'],\n",
    "    ('Y', '_'): ['_', 'R', 'F'],\n",
    "    ('Y', '0'): ['0', 'R', 'Y'],\n",
    "    ('Y', '1'): ['1', 'R', 'X'],\n",
    "}\n",
    "\n",
    "# Tape input.\n",
    "tape = list('0101111')\n",
    "# Position on tape.\n",
    "pos = 0\n",
    "# Initial state is first in table.\n",
    "state = 'X'\n",
    "\n",
    "\n",
    "\n",
    "# Keep going while we are not in a halting state.\n",
    "while state not in ['T', 'F',]:\n",
    "    # Print the current status.\n",
    "    print(''.join(tape[:pos]) + state + ''.join(tape[pos:]))\n",
    "    # Get the row of the table.\n",
    "    row = table[(state, tape[pos])]\n",
    "    # Overwrite the symbol.\n",
    "    tape[pos] = row[0]\n",
    "    # Move left or right.\n",
    "    if row[1] == 'R':\n",
    "        # Put blanks on tape as necessary.\n",
    "        if pos == len(tape) - 1:\n",
    "            tape = tape + ['_']\n",
    "        # Increase position.\n",
    "        pos = pos + 1\n",
    "    else:\n",
    "        # Put blanks on tape as necessary.\n",
    "        if pos == 0:\n",
    "            tape = ['_'] + tape\n",
    "            # The position on the tape has to move with it.\n",
    "            pos = pos + 1\n",
    "        # Decrease position.\n",
    "        pos = pos - 1\n",
    "    # Update the state.\n",
    "    state = row[2]\n",
    "\n",
    "    \n",
    "# Print the current status.\n",
    "print(''.join(tape[:pos]) + state + ''.join(tape[pos:]))"
   ]
  },
  {
   "cell_type": "markdown",
   "metadata": {},
   "source": [
    "## In class attempt 1 - gates"
   ]
  },
  {
   "cell_type": "code",
   "execution_count": 4,
   "metadata": {},
   "outputs": [],
   "source": [
    "\n",
    "import qiskit as qk\n",
    "\n",
    "# Creating Qubits\n",
    "q = qk.QuantumRegister(2)\n",
    "# Creating Classical Bits\n",
    "c = qk.ClassicalRegister(2)"
   ]
  },
  {
   "cell_type": "code",
   "execution_count": 5,
   "metadata": {},
   "outputs": [],
   "source": [
    "circuit = qk.QuantumCircuit(q, c)"
   ]
  },
  {
   "cell_type": "code",
   "execution_count": 6,
   "metadata": {},
   "outputs": [
    {
     "data": {
      "text/plain": [
       "<qiskit.circuit.instructionset.InstructionSet at 0x237b541b6d0>"
      ]
     },
     "execution_count": 6,
     "metadata": {},
     "output_type": "execute_result"
    }
   ],
   "source": [
    "# Hadamard Gate on the first Qubit\n",
    "circuit.h(q[0])\n",
    "# CNOT Gate on the first and second Qubits\n",
    "circuit.cx(q[0], q[1])\n",
    "# Measuring the Qubits\n",
    "circuit.measure(q, c)"
   ]
  },
  {
   "cell_type": "code",
   "execution_count": 7,
   "metadata": {},
   "outputs": [
    {
     "name": "stdout",
     "output_type": "stream",
     "text": [
      "      ┌───┐     ┌─┐   \n",
      "q0_0: ┤ H ├──■──┤M├───\n",
      "      └───┘┌─┴─┐└╥┘┌─┐\n",
      "q0_1: ─────┤ X ├─╫─┤M├\n",
      "           └───┘ ║ └╥┘\n",
      "c0: 2/═══════════╩══╩═\n",
      "                 0  1 \n"
     ]
    }
   ],
   "source": [
    "print (circuit)"
   ]
  },
  {
   "cell_type": "markdown",
   "metadata": {},
   "source": [
    "## attempt 2"
   ]
  },
  {
   "cell_type": "code",
   "execution_count": 8,
   "metadata": {},
   "outputs": [
    {
     "name": "stdout",
     "output_type": "stream",
     "text": [
      "NOT with input 0 gives output 1\n"
     ]
    },
    {
     "data": {
      "text/html": [
       "<pre style=\"word-wrap: normal;white-space: pre;background: #fff0;line-height: 1.1;font-family: &quot;Courier New&quot;,Courier,monospace\">           ░ ┌───┐ ░ ┌─┐\n",
       "  q: ─|0>──░─┤ X ├─░─┤M├\n",
       "           ░ └───┘ ░ └╥┘\n",
       "c: 1/═════════════════╩═\n",
       "                      0 </pre>"
      ],
      "text/plain": [
       "           ░ ┌───┐ ░ ┌─┐\n",
       "  q: ─|0>──░─┤ X ├─░─┤M├\n",
       "           ░ └───┘ ░ └╥┘\n",
       "c: 1/═════════════════╩═\n",
       "                      0 "
      ]
     },
     "metadata": {},
     "output_type": "display_data"
    },
    {
     "name": "stdout",
     "output_type": "stream",
     "text": [
      "\n",
      "\n",
      "NOT with input 1 gives output 0\n"
     ]
    },
    {
     "data": {
      "text/html": [
       "<pre style=\"word-wrap: normal;white-space: pre;background: #fff0;line-height: 1.1;font-family: &quot;Courier New&quot;,Courier,monospace\">          ┌───┐ ░ ┌───┐ ░ ┌─┐\n",
       "  q: ─|0>─┤ X ├─░─┤ X ├─░─┤M├\n",
       "          └───┘ ░ └───┘ ░ └╥┘\n",
       "c: 1/══════════════════════╩═\n",
       "                           0 </pre>"
      ],
      "text/plain": [
       "          ┌───┐ ░ ┌───┐ ░ ┌─┐\n",
       "  q: ─|0>─┤ X ├─░─┤ X ├─░─┤M├\n",
       "          └───┘ ░ └───┘ ░ └╥┘\n",
       "c: 1/══════════════════════╩═\n",
       "                           0 "
      ]
     },
     "metadata": {},
     "output_type": "display_data"
    },
    {
     "name": "stdout",
     "output_type": "stream",
     "text": [
      "\n",
      "\n"
     ]
    }
   ],
   "source": [
    "# importing qiskit\n",
    "from qiskit import * \n",
    "  \n",
    "# importing plot_histogram to visualize Output\n",
    "from qiskit.visualization import plot_histogram \n",
    "import numpy as np\n",
    "  \n",
    "  \n",
    "def NOT(inp):\n",
    "  \n",
    "    # Creating a quantum circuit with a \n",
    "    # single qubit and a single classical bit using \n",
    "    qc = QuantumCircuit(1, 1)\n",
    "    qc.reset(0)\n",
    "  \n",
    "    # We encode '0' as the qubit state |0⟩, and '1' as |1⟩\n",
    "    # Since the qubit is initially |0⟩, so for\n",
    "    # an input of 0, we don't need to do anything.\n",
    "    # For an input of '1', we do an x to rotate the |0⟩ to |1⟩\n",
    "    # The x() function is to apply NOT gate on given parameter.\n",
    "    if inp == '1':\n",
    "          \n",
    "        # applying NOT on qubit 0.\n",
    "        qc.x(0) \n",
    "  \n",
    "    # barrier between input state and gate operation\n",
    "    qc.barrier()\n",
    "  \n",
    "    # Now we've encoded the input,\n",
    "    # we can do a NOT on it using x\n",
    "      \n",
    "    # NOT on |0> converted to |1> and wise verse.\n",
    "    qc.x(0) \n",
    "  \n",
    "    # barrier between gate operation and measurement\n",
    "    qc.barrier()\n",
    "  \n",
    "    # Finally, we extract the |0⟩/|1⟩ output of\n",
    "    # the qubit q[0] and encode it in the bit c[0]\n",
    "    qc.measure(0, 0)\n",
    "      \n",
    "    # to visualize\n",
    "    qc.draw('mpl') \n",
    "  \n",
    "    # To run the program on a simulator\n",
    "    backend = Aer.get_backend('qasm_simulator')\n",
    "      \n",
    "    # Since the output will be deterministic,\n",
    "    # so we can use just a single shot to get it\n",
    "    job = execute(qc, backend, shots=1, memory=True)\n",
    "    output = job.result().get_memory()[0]\n",
    "  \n",
    "    return qc, output\n",
    "  \n",
    "# Sending input to NOT function\n",
    "for inp in ['0', '1']:\n",
    "    qc, out = NOT(inp)\n",
    "      \n",
    "    print('NOT with input', inp, 'gives output', out)\n",
    "    display(qc.draw())\n",
    "    print('\\n')"
   ]
  },
  {
   "cell_type": "markdown",
   "metadata": {},
   "source": [
    "## attempt 3"
   ]
  },
  {
   "cell_type": "code",
   "execution_count": 9,
   "metadata": {},
   "outputs": [
    {
     "ename": "ModuleNotFoundError",
     "evalue": "No module named 'Our_Qiskit_Functions'",
     "output_type": "error",
     "traceback": [
      "\u001b[1;31m---------------------------------------------------------------------------\u001b[0m",
      "\u001b[1;31mModuleNotFoundError\u001b[0m                       Traceback (most recent call last)",
      "Input \u001b[1;32mIn [9]\u001b[0m, in \u001b[0;36m<cell line: 2>\u001b[1;34m()\u001b[0m\n\u001b[0;32m      1\u001b[0m \u001b[38;5;28;01mfrom\u001b[39;00m \u001b[38;5;21;01mqiskit\u001b[39;00m \u001b[38;5;28;01mimport\u001b[39;00m QuantumRegister,ClassicalRegister,Aer,execute\n\u001b[1;32m----> 2\u001b[0m \u001b[38;5;28;01mimport\u001b[39;00m \u001b[38;5;21;01mOur_Qiskit_Functions\u001b[39;00m \u001b[38;5;28;01mas\u001b[39;00m \u001b[38;5;21;01moq\u001b[39;00m\n\u001b[0;32m      4\u001b[0m \u001b[38;5;66;03m# Initializing backend simulators to visualize circuits\u001b[39;00m\n\u001b[0;32m      5\u001b[0m S_simulator \u001b[38;5;241m=\u001b[39m Aer\u001b[38;5;241m.\u001b[39mbackends(name\u001b[38;5;241m=\u001b[39m\u001b[38;5;124m'\u001b[39m\u001b[38;5;124mstatevector_simulator\u001b[39m\u001b[38;5;124m'\u001b[39m)[\u001b[38;5;241m0\u001b[39m]\n",
      "\u001b[1;31mModuleNotFoundError\u001b[0m: No module named 'Our_Qiskit_Functions'"
     ]
    }
   ],
   "source": [
    "from qiskit import QuantumRegister,ClassicalRegister,Aer,execute\n",
    "import Our_Qiskit_Functions as oq\n",
    "\n",
    "# Initializing backend simulators to visualize circuits\n",
    "S_simulator = Aer.backends(name='statevector_simulator')[0]\n",
    "Q_simulator = Aer.backends(name='qasm_simulator')[0]\n",
    "# Creating quantum registers to hold quibits\n",
    "q = QuantumRegister(2)\n",
    "# Creating classical registers to hzold bits\n",
    "c = ClassicalRegister(2)\n",
    "# Create a quantum circuit with these registers\n",
    "qc=quantumCircuit(q,c)"
   ]
  },
  {
   "cell_type": "code",
   "execution_count": null,
   "metadata": {},
   "outputs": [],
   "source": []
  }
 ],
 "metadata": {
  "kernelspec": {
   "display_name": "Python 3 (ipykernel)",
   "language": "python",
   "name": "python3"
  },
  "language_info": {
   "codemirror_mode": {
    "name": "ipython",
    "version": 3
   },
   "file_extension": ".py",
   "mimetype": "text/x-python",
   "name": "python",
   "nbconvert_exporter": "python",
   "pygments_lexer": "ipython3",
   "version": "3.9.13"
  }
 },
 "nbformat": 4,
 "nbformat_minor": 4
}
