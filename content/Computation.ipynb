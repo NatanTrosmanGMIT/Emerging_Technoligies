{
  "metadata": {
    "language_info": {
      "codemirror_mode": {
        "name": "python",
        "version": 3
      },
      "file_extension": ".py",
      "mimetype": "text/x-python",
      "name": "python",
      "nbconvert_exporter": "python",
      "pygments_lexer": "ipython3",
      "version": "3.8"
    },
    "kernelspec": {
      "name": "python",
      "display_name": "Python (Pyodide)",
      "language": "python"
    }
  },
  "nbformat_minor": 4,
  "nbformat": 4,
  "cells": [
    {
      "cell_type": "markdown",
      "source": "## Exercise 1\n\nDescribe and plot five examples of pairs of functions  and  such that  is .",
      "metadata": {}
    },
    {
      "cell_type": "code",
      "source": "# Numbers.\nimport numpy as np\n\n# Plotting.\nimport matplotlib.pyplot as plt",
      "metadata": {
        "trusted": true
      },
      "execution_count": 1,
      "outputs": []
    },
    {
      "cell_type": "markdown",
      "source": "## Exercise 2\n\nChange the above code to only accept inputs that do not contain any 1's.",
      "metadata": {}
    },
    {
      "cell_type": "code",
      "source": "# State table.\ntable = {\n    ('X', '_'): ['_', 'R', 'T'],\n    ('X', '0'): ['0', 'R', 'X'],\n    ('X', '1'): ['1', 'R', 'Y'],\n    ('Y', '_'): ['_', 'R', 'F'],\n    ('Y', '0'): ['0', 'R', 'Y'],\n    ('Y', '1'): ['1', 'R', 'X'],\n}\n\n# Tape input.\ntape = list('0101111')\n# Position on tape.\npos = 0\n# Initial state is first in table.\nstate = 'X'\n\n\n\n# Keep going while we are not in a halting state.\nwhile state not in ['T', 'F',]:\n    # Print the current status.\n    print(''.join(tape[:pos]) + state + ''.join(tape[pos:]))\n    # Get the row of the table.\n    row = table[(state, tape[pos])]\n    # Overwrite the symbol.\n    tape[pos] = row[0]\n    # Move left or right.\n    if row[1] == 'R':\n        # Put blanks on tape as necessary.\n        if pos == len(tape) - 1:\n            tape = tape + ['_']\n        # Increase position.\n        pos = pos + 1\n    else:\n        # Put blanks on tape as necessary.\n        if pos == 0:\n            tape = ['_'] + tape\n            # The position on the tape has to move with it.\n            pos = pos + 1\n        # Decrease position.\n        pos = pos - 1\n    # Update the state.\n    state = row[2]\n\n    \n# Print the current status.\nprint(''.join(tape[:pos]) + state + ''.join(tape[pos:]))",
      "metadata": {
        "tags": [],
        "trusted": true
      },
      "execution_count": 2,
      "outputs": [
        {
          "name": "stdout",
          "text": "X0101111\n0X101111\n01Y01111\n010Y1111\n0101X111\n01011Y11\n010111X1\n0101111Y_\n0101111_F_\n",
          "output_type": "stream"
        }
      ]
    },
    {
      "cell_type": "code",
      "source": "",
      "metadata": {},
      "execution_count": null,
      "outputs": []
    },
    {
      "cell_type": "code",
      "source": "",
      "metadata": {},
      "execution_count": null,
      "outputs": []
    }
  ]
}