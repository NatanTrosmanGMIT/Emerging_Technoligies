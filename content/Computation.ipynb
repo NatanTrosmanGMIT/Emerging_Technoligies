{
 "cells": [
  {
   "cell_type": "markdown",
   "metadata": {},
   "source": [
    "# Computation\n",
    "***\n",
    "## Growth Rates\n",
    "***\n",
    "In the context of quantum computing, the growth rate of an algorithm or computational problem refers to how quickly the complexity of the problem increases as the size of the input grows.\n",
    "\n",
    "For example, if the number of steps required to solve a problem doubles as the size of the input doubles, the algorithm has a linear growth rate. If the number of steps required to solve the problem increases by a factor of four as the size of the input doubles, the algorithm has a quadratic growth rate.\n",
    "\n",
    "On the other hand, if the number of steps required to solve a problem increases exponentially with the size of the input, such as if it increases by a factor of two for each additional input, the algorithm has an exponential growth rate.\n",
    "\n",
    "In general, algorithms with polynomial growth rates (such as linear or quadratic) are considered to be efficient and can be run on classical computers in a reasonable amount of time. Algorithms with exponential growth rates are generally considered to be inefficient and may require specialized quantum computers to run in a reasonable amount of time."
   ]
  },
  {
   "cell_type": "markdown",
   "metadata": {},
   "source": [
    "***\n",
    "## Big O notation\n",
    "***\n",
    "Big O notation is a mathematical notation that describes the limiting behavior of a function when the argument tends towards a particular value or infinity. It is a measure of how well a function scales with the size of its inputs.\n",
    "\n",
    "In computer science, Big O notation is used to describe the performance or complexity of an algorithm. It is used to describe how long an algorithm takes to run as the input size grows. The \"O\" in Big O notation stands for \"order of,\" and the function being described is the order of growth of the algorithm's running time.\n",
    "\n",
    "For example, if an algorithm has a running time of O(n), it means that the running time grows linearly with the size of the input. An algorithm with a running time of O(n^2) means that the running time grows at a rate of n squared, and an algorithm with a running time of O(log n) means that the running time grows logarithmically with the size of the input.\n",
    "\n",
    "Big O notation allows us to compare the performance of different algorithms and make informed decisions about which algorithms are the most efficient for a given task.\n",
    "<img src=\"https://miro.medium.com/max/720/1*j8fUQjaUlmrQEN_udU0_TQ.jpeg\" width=\"600\" height=\"600\">\n"
   ]
  },
  {
   "cell_type": "markdown",
   "metadata": {},
   "source": [
    "***\n",
    "### Exercise 1\n",
    "***\n",
    "\n",
    "Describe and plot five examples of pairs of functions ƒ and g such that ƒ is ƒ O(G)."
   ]
  },
  {
   "cell_type": "markdown",
   "metadata": {},
   "source": [
    "1. __ƒ(x) = sqrt(x) and g(x) = x:__ ƒ is O(g) because ƒ grows at a rate of sqrt(x) while g grows at a rate of x.\n",
    "\n",
    "1. __ƒ(x) = x and g(x) = x:__ ƒ is O(g) because ƒ grows at a rate of x while g grows at a rate of x\n",
    "\n",
    "1. __ƒ(x) = x^3 + 2x and g(x) = x^3:__ ƒ is O(g) because ƒ grows at a rate of x^3 + 2x while g grows at a rate of x^3.\n",
    "\n",
    "1. __ƒ(x) = x^2 + x and g(x) = x^3:__ ƒ is O(g) because ƒ grows at a rate of x^2 + x while g grows at a rate of x^3. \n",
    "\n",
    "1. __ƒ(x) = log(x) and g(x) = x:__ ƒ grows at a rate of log(x) while g grows at a rate of x.\n"
   ]
  },
  {
   "cell_type": "code",
   "execution_count": 1,
   "metadata": {},
   "outputs": [
    {
     "data": {
      "image/png": "[encoded data removed]",
      "text/plain": [
       "<Figure size 1080x432 with 1 Axes>"
      ]
     },
     "metadata": {
      "needs_background": "light"
     },
     "output_type": "display_data"
    }
   ],
   "source": [
    "import math\n",
    "import matplotlib.pyplot as plt\n",
    "from IPython.display import Image\n",
    "\n",
    "# Define the functions to plot\n",
    "def f1(x):\n",
    "    return math.sqrt(x)\n",
    "def f2(x):\n",
    "    return x\n",
    "def f3(x):\n",
    "    return x**3 + 2*x\n",
    "def f4(x):\n",
    "    return x**2 + x\n",
    "def f5(x):\n",
    "    if x > 0:\n",
    "        return math.log(x)\n",
    "    else:\n",
    "        return float('nan')\n",
    "\n",
    "    # Create a figure.\n",
    "fig, ax = plt.subplots(figsize=(15, 6))\n",
    "\n",
    "# Generate some x values to plot\n",
    "x_values = range(0, 11)\n",
    "\n",
    "# Calculate the y values for each function\n",
    "y_values = [[f(x) for x in x_values] for f in [f1, f2, f3, f4, f5,]]\n",
    "\n",
    "# Use pyplot to plot the x and y values for each function\n",
    "for y, f in zip(y_values, [f1, f2, f3, f4, f5,]):\n",
    "    plt.plot(x_values, y, label=f'{f.__name__}(x)')\n",
    "\n",
    "# Add a legend\n",
    "plt.legend()\n",
    "\n",
    "# Show the plot\n",
    "plt.show()\n"
   ]
  },
  {
   "cell_type": "markdown",
   "metadata": {},
   "source": [
    "***\n",
    "## Turing Machine\n",
    "\n",
    "***\n",
    "\n",
    "A Turing machine is a theoretical model of computation that can be used to perform any calculation that can be performed by a computer. It is a theoretical machine that consists of an infinite tape divided into cells, a tape head that reads and writes to the tape cells, and a set of rules that govern the movement of the tape head and the manipulation of the symbols on the tape. The tape head can move left or right along the tape and can read or write symbols to the tape cells. The set of rules specifies the action to be taken based on the current state of the tape head and the symbol it is reading.\n",
    "\n",
    "In relation to quantum computing, a Turing machine can be thought of as a classical model of computation that is used to simulate the behavior of a quantum computer. Quantum computers are based on quantum mechanical principles and can perform certain calculations much faster than classical computers, but they are limited in the types of calculations they can perform. By using a classical Turing machine to simulate the behavior of a quantum computer, it is possible to study the capabilities and limitations of quantum computers and to compare them to classical computers.\n",
    "\n",
    "<img src=\"https://aturingmachine.com/turingFull560.jpg\">\n",
    "\n"
   ]
  },
  {
   "cell_type": "markdown",
   "metadata": {},
   "source": [
    "***\n",
    "### Exercise 2\n",
    "***\n",
    "Below we simulate a Turing machine using Python.\n",
    "\n",
    "Change the code to only accept inputs that do not contain any 1's."
   ]
  },
  {
   "cell_type": "code",
   "execution_count": 2,
   "metadata": {
    "tags": []
   },
   "outputs": [
    {
     "name": "stdout",
     "output_type": "stream",
     "text": [
      "X0101111\n",
      "0X101111\n",
      "01Y01111\n",
      "010Y1111\n",
      "0101X111\n",
      "01011Y11\n",
      "010111X1\n",
      "0101111Y_\n",
      "0101111_F_\n"
     ]
    }
   ],
   "source": [
    "# State table.\n",
    "table = {\n",
    "    ('X', '_'): ['_', 'R', 'T'],\n",
    "    ('X', '0'): ['0', 'R', 'X'],\n",
    "    ('X', '1'): ['1', 'R', 'Y'],\n",
    "    ('Y', '_'): ['_', 'R', 'F'],\n",
    "    ('Y', '0'): ['0', 'R', 'Y'],\n",
    "    ('Y', '1'): ['1', 'R', 'X'],\n",
    "}\n",
    "\n",
    "# Tape input.\n",
    "tape = list('0101111')\n",
    "# Position on tape.\n",
    "pos = 0\n",
    "# Initial state is first in table.\n",
    "state = 'X'\n",
    "\n",
    "\n",
    "\n",
    "# Keep going while we are not in a halting state.\n",
    "while state not in ['T', 'F',]:\n",
    "    # Print the current status.\n",
    "    print(''.join(tape[:pos]) + state + ''.join(tape[pos:]))\n",
    "    # Get the row of the table.\n",
    "    row = table[(state, tape[pos])]\n",
    "    # Overwrite the symbol.\n",
    "    tape[pos] = row[0]\n",
    "    # Move left or right.\n",
    "    if row[1] == 'R':\n",
    "        # Put blanks on tape as necessary.\n",
    "        if pos == len(tape) - 1:\n",
    "            tape = tape + ['_']\n",
    "        # Increase position.\n",
    "        pos = pos + 1\n",
    "    else:\n",
    "        # Put blanks on tape as necessary.\n",
    "        if pos == 0:\n",
    "            tape = ['_'] + tape\n",
    "            # The position on the tape has to move with it.\n",
    "            pos = pos + 1\n",
    "        # Decrease position.\n",
    "        pos = pos - 1\n",
    "    # Update the state.\n",
    "    state = row[2]\n",
    "\n",
    "    \n",
    "# Print the current status.\n",
    "print(''.join(tape[:pos]) + state + ''.join(tape[pos:]))"
   ]
  },
  {
   "cell_type": "code",
   "execution_count": 3,
   "metadata": {},
   "outputs": [
    {
     "name": "stdout",
     "output_type": "stream",
     "text": [
      "X0101111\n",
      "0X101111\n",
      "01Y01111\n",
      "010Y1111\n",
      "0101X111\n",
      "01011Y11\n",
      "010111X1\n",
      "0101111Y_\n",
      "Input rejected\n"
     ]
    }
   ],
   "source": [
    "# State table.\n",
    "table = {\n",
    "    ('X', '_'): ['_', 'R', 'T'],\n",
    "    ('X', '0'): ['0', 'R', 'X'],\n",
    "    ('X', '1'): ['1', 'R', 'Y'],\n",
    "    ('Y', '_'): ['_', 'R', 'F'],\n",
    "    ('Y', '0'): ['0', 'R', 'Y'],\n",
    "    ('Y', '1'): ['1', 'R', 'X'],\n",
    "}\n",
    "\n",
    "# Tape input.\n",
    "tape = list('0101111')\n",
    "# Position on tape.\n",
    "pos = 0\n",
    "# Initial state is first in table.\n",
    "state = 'X'\n",
    "\n",
    "# Keep going while we are not in a halting state.\n",
    "while state not in ['T', 'F']:\n",
    "    # Print the current status.\n",
    "    print(''.join(tape[:pos]) + state + ''.join(tape[pos:]))\n",
    "    # Get the row of the table.\n",
    "    row = table[(state, tape[pos])]\n",
    "    # Overwrite the symbol.\n",
    "    tape[pos] = row[0]\n",
    "    # Move left or right.\n",
    "    if row[1] == 'R':\n",
    "        # Put blanks on tape as necessary.\n",
    "        if pos == len(tape) - 1:\n",
    "            tape = tape + ['_']\n",
    "        # Increase position.\n",
    "        pos = pos + 1\n",
    "    else:\n",
    "        # Put blanks on tape as necessary.\n",
    "        if pos == 0:\n",
    "            tape = ['_'] + tape\n",
    "            # The position on the tape has to move with it.\n",
    "            pos = pos + 1\n",
    "        # Decrease position.\n",
    "        pos = pos - 1\n",
    "    # Update the state.\n",
    "    state = row[2]\n",
    "\n",
    "# Print the final status.\n",
    "if state == 'T':\n",
    "    print(\"Input accepted\")\n",
    "else:\n",
    "    print(\"Input rejected\")"
   ]
  },
  {
   "cell_type": "markdown",
   "metadata": {},
   "source": [
    "***\n",
    "## Experiments Challenging Turing's Thesis\n",
    "***\n",
    "Turing's thesis, also known as the Church-Turing thesis, is a conjecture that any effective method of computation can be performed by a universal model of computation, such as a Turing machine. While this conjecture has not been proven, it has been widely accepted as true and has had a significant impact on the development of computer science.\n",
    "\n",
    "However, there have been a number of experiments that have challenged this thesis, either by demonstrating the existence of computational models that are more powerful than Turing machines or by showing that certain computational problems cannot be solved by any known model of computation.\n",
    "\n",
    "One example of a computational model that is more powerful than a Turing machine is the quantum computer. Quantum computers use the principles of quantum mechanics to perform computations, and they have been shown to be able to solve certain problems exponentially faster than any classical computer.\n",
    "\n",
    "Another example is the oracle machine, which is a theoretical model of computation that is able to solve certain computational problems that are thought to be unsolvable by any other model of computation.\n",
    "\n",
    "Despite these challenges, Turing's thesis remains an important concept in computer science and continues to guide research in the field.\n",
    "***\n",
    "### Double Slit Experiment\n",
    "***\n",
    "The Double Slit Experiment is a classic example of a quantum mechanical phenomenon that challenges the notion of determinism, a cornerstone of Turing's Thesis. In this experiment, a beam of particles is passed through two slits, and the resulting interference pattern is observed on a screen behind the slits. According to classical physics, the particles should pass through one of the two slits and create two distinct bands on the screen. However, when the experiment is performed with quantum particles such as electrons, the interference pattern suggests that the particles pass through both slits simultaneously, a concept known as superposition. This experiment suggests that the behavior of quantum particles cannot be predicted with certainty, and therefore challenges the notion of determinism that is central to Turing's Thesis.\n",
    "\n",
    "<img src=\"https://www.sciencefacts.net/wp-content/uploads/2020/05/Double-Slit-Experiment.jpg\" width=\"600\" height=\"600\">\n",
    "\n",
    "***\n",
    "### Stern Gerlach\n",
    "***\n",
    "The Stern Gerlach Experiment is another example of a quantum mechanical phenomenon that challenges the notion of determinism. In this experiment, a beam of silver atoms is passed through a non-uniform magnetic field. According to classical physics, the atoms should be deflected either to the left or the right, depending on their magnetic moment. However, when the experiment is performed with quantum particles, the atoms are observed to be deflected at various angles, suggesting that their magnetic moment is not a definite value but rather a range of possibilities. This experiment, like the Double Slit Experiment, suggests that the behavior of quantum particles cannot be predicted with certainty, and therefore challenges the notion of determinism that is central to Turing's Thesis.\n",
    "\n",
    "<img src=\"https://cronodon.com/images/stern_gerlach_apparatus_labelled_with_axes.jpg\" width=\"600\" height=\"600\">\n",
    "\n",
    "***\n",
    "### Deutsch-Jozsa\n",
    "***\n",
    "One other experiment that challenges Turing's thesis is the Deutsch-Jozsa algorithm. This is a quantum algorithm that can solve a certain class of problems exponentially faster than any classical algorithm. The problem it solves is to determine whether a function is constant (always outputs 0 or 1) or balanced (outputs 0 and 1 with equal probability). This problem is known as the \"hidden subgroup problem\", and it is believed to be difficult for classical algorithms to solve. However, the Deutsch-Jozsa algorithm is able to solve it in just a few steps, making it a powerful example of the potential of quantum computing to solve certain types of problems much more efficiently than classical computers.\n",
    "\n",
    "<img src=\"https://qiskit.org/textbook/ch-algorithms/images/deutsch_steps.png\" width=\"200\" height=\"200\">\n"
   ]
  },
  {
   "cell_type": "markdown",
   "metadata": {},
   "source": [
    "***\n",
    "### Classical Circuits\n",
    "***\n",
    "A classical circuit is a model of computation that is based on manipulating bits. It consists of a series of gates, each of which performs a specific operation on one or more bits. The output of each gate is determined by its input and the type of operation it performs. For example, an AND gate will output a 1 only if both of its inputs are 1, while an OR gate will output a 1 if either of its inputs is 1. Classical circuits can be used to perform a wide variety of computation tasks, including arithmetic, logical operations, and data manipulation. They are often used as the basis for the design of computers and other digital systems.\n",
    "\n",
    "<img src=\"https://upload.wikimedia.org/wikipedia/commons/thumb/e/e0/Quantum_Logic_Gates.png/500px-Quantum_Logic_Gates.png\">"
   ]
  },
  {
   "cell_type": "markdown",
   "metadata": {},
   "source": [
    "***\n",
    "# References\n",
    "***\n",
    "\n",
    "Growth Rates in Algorithm Complexity: the Missing Link by Dana Vrajitoru:<br>\n",
    "https://www.researchgate.net/publication/321424440_Growth_Rates_in_Algorithm_Complexity_the_Missing_Link\n",
    "\n",
    "Big O Notation by P. Danziger:<br>\n",
    "https://www.cs.ryerson.ca/~mth210/Handouts/PD/bigO.pdf\n",
    "\n",
    "De Mol, Liesbeth, \"Turing Machines\", The Stanford Encyclopedia of Philosophy (Winter 2021 Edition), Edward N. Zalta: https://plato.stanford.edu/archives/win2021/entries/turing-machine\n",
    "\n",
    "Finally making sense of the double-slit experiment by Yakir Aharonova, Eliahu Cohend, Fabrizio Colomboe, Tomer Landsbergerc, Irene Sabadinie, Daniele C. Struppaa and Jeff Tollaksen:<br>\n",
    "https://www.pnas.org/doi/epdf/10.1073/pnas.1704649114\n",
    "\n",
    "Franklin, Allan and Slobodan Perovic, \"Experiment in Physics\", The Stanford Encyclopedia of Philosophy (Summer 2021 Edition), Edward N. Zalta: https://plato.stanford.edu/entries/physics-experiment/app5.html\n",
    "\n",
    "Qiskit Textbook:<br>\n",
    "https://qiskit.org/textbook/ch-algorithms/deutsch-jozsa.html"
   ]
  }
 ],
 "metadata": {
  "kernelspec": {
   "display_name": "Python 3 (ipykernel)",
   "language": "python",
   "name": "python3"
  },
  "language_info": {
   "codemirror_mode": {
    "name": "ipython",
    "version": 3
   },
   "file_extension": ".py",
   "mimetype": "text/x-python",
   "name": "python",
   "nbconvert_exporter": "python",
   "pygments_lexer": "ipython3",
   "version": "3.9.7"
  }
 },
 "nbformat": 4,
 "nbformat_minor": 4
}
